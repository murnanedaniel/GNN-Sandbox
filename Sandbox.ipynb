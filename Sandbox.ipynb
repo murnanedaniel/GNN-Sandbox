{
 "cells": [
  {
   "cell_type": "markdown",
   "metadata": {},
   "source": [
    "# GNN Tracking Sandbox"
   ]
  },
  {
   "cell_type": "markdown",
   "metadata": {},
   "source": [
    "A generalisable notebook to:\n",
    "* Create and load tracking data, \n",
    "* Configure edge construction (if using non-End2End classification), \n",
    "* Visualise graph data,\n",
    "* Configure training parameters,\n",
    "* Construct GNN architecture,\n",
    "* Run automated tests,\n",
    "* Track test output for architecture comparison,\n",
    "* Export data, architecture and tests for production runs"
   ]
  },
  {
   "cell_type": "markdown",
   "metadata": {},
   "source": [
    "## Dependencies"
   ]
  },
  {
   "cell_type": "code",
   "execution_count": 1,
   "metadata": {
    "code_folding": [
     0
    ]
   },
   "outputs": [],
   "source": [
    "# System imports\n",
    "import os\n",
    "import sys\n",
    "from pprint import pprint as pp\n",
    "from time import time as tt\n",
    "import logging\n",
    "\n",
    "# Limit CPU usage on Jupyter\n",
    "os.environ['OMP_NUM_THREADS'] = '4'\n",
    "\n",
    "# Pick up local packages\n",
    "sys.path.append('..')\n",
    "\n",
    "# Get rid of RuntimeWarnings, gross\n",
    "import warnings\n",
    "warnings.filterwarnings(\"ignore\", category=RuntimeWarning)"
   ]
  },
  {
   "cell_type": "code",
   "execution_count": 2,
   "metadata": {
    "code_folding": [
     0
    ]
   },
   "outputs": [],
   "source": [
    "# External imports\n",
    "import matplotlib.pyplot as plt\n",
    "import matplotlib.colors\n",
    "import numpy as np\n",
    "import torch\n",
    "import torch.nn as nn\n",
    "from torch_geometric.data import Data\n",
    "from torch_geometric.data import DataLoader\n",
    "\n",
    "import ipywidgets as widgets\n",
    "from ipywidgets import interact, interact_manual, interactive, fixed\n",
    "from IPython.display import display\n",
    "\n",
    "from functools import partial"
   ]
  },
  {
   "cell_type": "code",
   "execution_count": 3,
   "metadata": {
    "code_folding": [
     0
    ]
   },
   "outputs": [],
   "source": [
    "# Local imports\n",
    "from utils.sandbox_utils import *\n",
    "from utils.interaction_utils import *\n",
    "%matplotlib inline"
   ]
  },
  {
   "cell_type": "markdown",
   "metadata": {
    "heading_collapsed": true
   },
   "source": [
    "## Create or Load Graph Dataset"
   ]
  },
  {
   "cell_type": "markdown",
   "metadata": {
    "cell_style": "split",
    "hidden": true
   },
   "source": [
    "### Generate data\n",
    "\n",
    "Use the event generator to generate 2- or 3-D dataset. Run the next cell to choose dataset parameters."
   ]
  },
  {
   "cell_type": "markdown",
   "metadata": {
    "cell_style": "split",
    "hidden": true
   },
   "source": [
    "### Load TrackML data\n",
    "\n",
    "Or load pre-generated data from a file location\n",
    "\n"
   ]
  },
  {
   "cell_type": "markdown",
   "metadata": {
    "cell_style": "center",
    "hidden": true
   },
   "source": [
    "Run the cell of the relevant side to either generate or load data. Hit \"Run interact\" once parameters are chosen. N.B. Generator may take longer for a very **small** angle cut (as many graphs won't have adequate edges and require regeneration) and very **large** angle cut (as then there is a large set of possible edges to generate)."
   ]
  },
  {
   "cell_type": "code",
   "execution_count": 13,
   "metadata": {
    "cell_style": "split",
    "code_folding": [],
    "hidden": true,
    "scrolled": true
   },
   "outputs": [
    {
     "data": {
      "application/vnd.jupyter.widget-view+json": {
       "model_id": "bc14b0b930ec4c4ea3436240a154f531",
       "version_major": 2,
       "version_minor": 0
      },
      "text/plain": [
       "interactive(children=(FloatSlider(value=10.0, continuous_update=False, description='num_layers', max=15.0, min…"
      ]
     },
     "metadata": {},
     "output_type": "display_data"
    }
   ],
   "source": [
    "# Generate data\n",
    "config_path = \"/global/u2/d/danieltm/ExaTrkX/eta-tracker/notebooks/datasetConfig.yaml\"\n",
    "generator = interactive(gen_edge_class_dataset, {\"manual\":True, \"auto_display\":False}, **sliders(\"dataset\", config_path) )\n",
    "display(generator)"
   ]
  },
  {
   "cell_type": "markdown",
   "metadata": {
    "cell_style": "center",
    "hidden": true
   },
   "source": [
    "Run the next cell to store the generated data to a dataset list. Change the split as required."
   ]
  },
  {
   "cell_type": "code",
   "execution_count": 14,
   "metadata": {
    "cell_style": "center",
    "hidden": true
   },
   "outputs": [
    {
     "data": {
      "application/vnd.jupyter.widget-view+json": {
       "model_id": "4e09f39b93c34bbcafa563735355b100",
       "version_major": 2,
       "version_minor": 0
      },
      "text/plain": [
       "interactive(children=(FloatSlider(value=60.0, continuous_update=False, description='train_percent', max=90.0, …"
      ]
     },
     "metadata": {},
     "output_type": "display_data"
    }
   ],
   "source": [
    "dataset = generator.result\n",
    "dataset_split = interactive(split_dataset, dataset=fixed(dataset), **sliders( \"split\", config_path) )\n",
    "dataset_split"
   ]
  },
  {
   "cell_type": "code",
   "execution_count": 8,
   "metadata": {
    "hidden": true
   },
   "outputs": [],
   "source": [
    "train_dataset, test_dataset = dataset_split.result"
   ]
  },
  {
   "cell_type": "markdown",
   "metadata": {
    "heading_collapsed": true
   },
   "source": [
    "## Visualise Dataset"
   ]
  },
  {
   "cell_type": "markdown",
   "metadata": {
    "hidden": true
   },
   "source": [
    "We can visualise some basic information about the training dataset here."
   ]
  },
  {
   "cell_type": "code",
   "execution_count": 17,
   "metadata": {
    "hidden": true
   },
   "outputs": [
    {
     "data": {
      "image/png": "[encoded data removed]",
      "text/plain": [
       "<Figure size 1152x288 with 3 Axes>"
      ]
     },
     "metadata": {
      "needs_background": "light"
     },
     "output_type": "display_data"
    }
   ],
   "source": [
    "visualise_training_dataset(train_dataset)"
   ]
  },
  {
   "cell_type": "markdown",
   "metadata": {},
   "source": [
    "## GNN Architecture"
   ]
  },
  {
   "cell_type": "markdown",
   "metadata": {},
   "source": [
    "We can build a new architecture from scratch, or load a YAML architecture, which is then built into a GNN model. Use the builder to:\n",
    "* Define the overall structure (number of convolutions, number of poolings, type of classification - node, edge or graph)\n",
    "* Choose the convolutions and poolings from a custom set in the /architecture folder, or from the predefined methods in Pytorch Geometric\n",
    "* Structure the order of these convolutions and poolings, and the number of recursions\n",
    "* Choose the MLP structure for each convolution (number of channels, number of layers)\n",
    "* Choose the MLP structure for input and output layers (number of layers)\n",
    "\n",
    "The input and output MLP channels are defined automatically by the type of classification. "
   ]
  },
  {
   "cell_type": "markdown",
   "metadata": {
    "cell_style": "split"
   },
   "source": [
    "### Generate Architecture"
   ]
  },
  {
   "cell_type": "markdown",
   "metadata": {
    "cell_style": "split",
    "heading_collapsed": true
   },
   "source": [
    "### Load Architecture"
   ]
  },
  {
   "cell_type": "markdown",
   "metadata": {
    "cell_style": "split",
    "hidden": true
   },
   "source": [
    "Use the dropboxes below to choose the number of {node, edge, graph} {convolutions, poolings}"
   ]
  },
  {
   "cell_type": "markdown",
   "metadata": {
    "cell_style": "split",
    "hidden": true
   },
   "source": [
    "Or load a pre-written __.sketch__ file"
   ]
  },
  {
   "cell_type": "code",
   "execution_count": 15,
   "metadata": {
    "cell_style": "center",
    "hidden": true
   },
   "outputs": [
    {
     "data": {
      "application/vnd.jupyter.widget-view+json": {
       "model_id": "5da2129d201b4992bd8c8f0e68878668",
       "version_major": 2,
       "version_minor": 0
      },
      "text/plain": [
       "interactive(children=(Dropdown(description='multiples of unique node convolutions', options=(0, 1, 2, 3, 4, 5,…"
      ]
     },
     "metadata": {},
     "output_type": "display_data"
    },
    {
     "data": {
      "application/vnd.jupyter.widget-view+json": {
       "model_id": "f2f5c90e48d544b5bd431977e38c1b3d",
       "version_major": 2,
       "version_minor": 0
      },
      "text/plain": [
       "interactive(children=(Output(),), _dom_classes=('widget-interact',))"
      ]
     },
     "metadata": {},
     "output_type": "display_data"
    },
    {
     "data": {
      "application/vnd.jupyter.widget-view+json": {
       "model_id": "a007271ba005493bbc0aa1d3819ddc8e",
       "version_major": 2,
       "version_minor": 0
      },
      "text/plain": [
       "interactive(children=(Output(),), _dom_classes=('widget-interact',))"
      ]
     },
     "metadata": {},
     "output_type": "display_data"
    },
    {
     "data": {
      "application/vnd.jupyter.widget-view+json": {
       "model_id": "6cb816f40f7341dba9895b506eb3312e",
       "version_major": 2,
       "version_minor": 0
      },
      "text/plain": [
       "interactive(children=(Output(),), _dom_classes=('widget-interact',))"
      ]
     },
     "metadata": {},
     "output_type": "display_data"
    },
    {
     "data": {
      "application/vnd.jupyter.widget-view+json": {
       "model_id": "41f060f63c7847e591efe7f39f67c4cd",
       "version_major": 2,
       "version_minor": 0
      },
      "text/plain": [
       "interactive(children=(Output(),), _dom_classes=('widget-interact',))"
      ]
     },
     "metadata": {},
     "output_type": "display_data"
    },
    {
     "data": {
      "application/vnd.jupyter.widget-view+json": {
       "model_id": "9d650c6db79b4d279e6fb6d3c540581c",
       "version_major": 2,
       "version_minor": 0
      },
      "text/plain": [
       "interactive(children=(Output(),), _dom_classes=('widget-interact',))"
      ]
     },
     "metadata": {},
     "output_type": "display_data"
    },
    {
     "data": {
      "application/vnd.jupyter.widget-view+json": {
       "model_id": "41bf0349c2c14ed79693ef2f9d34d823",
       "version_major": 2,
       "version_minor": 0
      },
      "text/plain": [
       "interactive(children=(Output(),), _dom_classes=('widget-interact',))"
      ]
     },
     "metadata": {},
     "output_type": "display_data"
    },
    {
     "data": {
      "application/vnd.jupyter.widget-view+json": {
       "model_id": "4aa10be983c64f428cb1ea652eebba7d",
       "version_major": 2,
       "version_minor": 0
      },
      "text/plain": [
       "interactive(children=(Output(),), _dom_classes=('widget-interact',))"
      ]
     },
     "metadata": {},
     "output_type": "display_data"
    }
   ],
   "source": [
    "# Generate data - NEED TO ABSTRACT MUCH OF THIS AWAY!\n",
    "config_path = \"/global/u2/d/danieltm/ExaTrkX/eta-tracker/notebooks/architectureConfig.yaml\"\n",
    "GNN_multiple_generator = interactive(return_same, **dropdowns_range(\"multiples\", config_path) )\n",
    "GNN_layer_generator = [interactive(return_same) for i in range(len(GNN_multiple_generator.children))]\n",
    "display(GNN_multiple_generator)\n",
    "[display(i) for i in GNN_layer_generator]\n",
    "# button = widgets.Button(description=\"Click Me!\")\n",
    "# build_layer_list_partial = partial(build_layer_list, GNN_layer_generator)\n",
    "# button.on_click(build_layer_list_partial)\n",
    "# display(button)\n",
    "layer_list = {}\n",
    "dropdown_watcher(GNN_multiple_generator.children[0], GNN_layer_generator[0], \"node\", \"convolutions\", layer_list)\n",
    "dropdown_watcher(GNN_multiple_generator.children[1], GNN_layer_generator[1], \"node\", \"poolings\", layer_list)\n",
    "dropdown_watcher(GNN_multiple_generator.children[2], GNN_layer_generator[2], \"edge\", \"convolutions\", layer_list)\n",
    "dropdown_watcher(GNN_multiple_generator.children[3], GNN_layer_generator[3], \"edge\", \"poolings\", layer_list)\n",
    "dropdown_watcher(GNN_multiple_generator.children[4], GNN_layer_generator[4], \"graph\", \"convolutions\", layer_list)\n",
    "dropdown_watcher(GNN_multiple_generator.children[5], GNN_layer_generator[5], \"graph\", \"poolings\", layer_list)"
   ]
  },
  {
   "cell_type": "markdown",
   "metadata": {
    "hidden": true
   },
   "source": [
    "Then use the following dropboxes to choose the methods used for each of the above layers"
   ]
  },
  {
   "cell_type": "code",
   "execution_count": 16,
   "metadata": {
    "hidden": true
   },
   "outputs": [
    {
     "data": {
      "application/vnd.jupyter.widget-view+json": {
       "model_id": "f2f5c90e48d544b5bd431977e38c1b3d",
       "version_major": 2,
       "version_minor": 0
      },
      "text/plain": [
       "interactive(children=(Dropdown(description='methods of node 0 convolutions ', index=1, options=('GCN', 'GAT', …"
      ]
     },
     "metadata": {},
     "output_type": "display_data"
    },
    {
     "data": {
      "application/vnd.jupyter.widget-view+json": {
       "model_id": "a007271ba005493bbc0aa1d3819ddc8e",
       "version_major": 2,
       "version_minor": 0
      },
      "text/plain": [
       "interactive(children=(Output(),), _dom_classes=('widget-interact',))"
      ]
     },
     "metadata": {},
     "output_type": "display_data"
    },
    {
     "data": {
      "application/vnd.jupyter.widget-view+json": {
       "model_id": "6cb816f40f7341dba9895b506eb3312e",
       "version_major": 2,
       "version_minor": 0
      },
      "text/plain": [
       "interactive(children=(Dropdown(description='methods of edge 0 convolutions ', options=('EdgeAttention', 'GATEd…"
      ]
     },
     "metadata": {},
     "output_type": "display_data"
    },
    {
     "data": {
      "application/vnd.jupyter.widget-view+json": {
       "model_id": "41f060f63c7847e591efe7f39f67c4cd",
       "version_major": 2,
       "version_minor": 0
      },
      "text/plain": [
       "interactive(children=(Output(),), _dom_classes=('widget-interact',))"
      ]
     },
     "metadata": {},
     "output_type": "display_data"
    },
    {
     "data": {
      "application/vnd.jupyter.widget-view+json": {
       "model_id": "9d650c6db79b4d279e6fb6d3c540581c",
       "version_major": 2,
       "version_minor": 0
      },
      "text/plain": [
       "interactive(children=(Output(),), _dom_classes=('widget-interact',))"
      ]
     },
     "metadata": {},
     "output_type": "display_data"
    },
    {
     "data": {
      "application/vnd.jupyter.widget-view+json": {
       "model_id": "41bf0349c2c14ed79693ef2f9d34d823",
       "version_major": 2,
       "version_minor": 0
      },
      "text/plain": [
       "interactive(children=(Output(),), _dom_classes=('widget-interact',))"
      ]
     },
     "metadata": {},
     "output_type": "display_data"
    },
    {
     "data": {
      "application/vnd.jupyter.widget-view+json": {
       "model_id": "4aa10be983c64f428cb1ea652eebba7d",
       "version_major": 2,
       "version_minor": 0
      },
      "text/plain": [
       "interactive(children=(Output(),), _dom_classes=('widget-interact',))"
      ]
     },
     "metadata": {},
     "output_type": "display_data"
    },
    {
     "data": {
      "text/plain": [
       "[None, None, None, None, None, None, None]"
      ]
     },
     "execution_count": 16,
     "metadata": {},
     "output_type": "execute_result"
    }
   ],
   "source": [
    "[display(i) for i in GNN_layer_generator]"
   ]
  },
  {
   "cell_type": "markdown",
   "metadata": {},
   "source": [
    "### Save Architecture"
   ]
  },
  {
   "cell_type": "code",
   "execution_count": 8,
   "metadata": {},
   "outputs": [
    {
     "data": {
      "text/plain": [
       "{'pipeline': ['input',\n",
       "  'shortcut',\n",
       "  {'loop1': ['edgenet', 'nodenet', 'shortcut']},\n",
       "  'edgenet'],\n",
       " 'architecture': {'input': {'type': 'node', 'mlp': True},\n",
       "  'edgenet': {'type': 'edge',\n",
       "   'convolution': 'end_concatenation',\n",
       "   'pooling': 'agg',\n",
       "   'mlp': True},\n",
       "  'nodenet': {'type': 'node',\n",
       "   'convolution': {'attention': 'edgenet'},\n",
       "   'mlp': True},\n",
       "  'shortcut': {'type': 'node',\n",
       "   'convolution': 'shortcut_concatenation',\n",
       "   'mlp': False}},\n",
       " 'loops': {'loop1': 4}}"
      ]
     },
     "execution_count": 8,
     "metadata": {},
     "output_type": "execute_result"
    }
   ],
   "source": [
    "with open(\"sketches/steve_model.yaml\",\"r\") as f:\n",
    "    modelConfig = yaml.safe_load(f)"
   ]
  },
  {
   "cell_type": "code",
   "execution_count": 9,
   "metadata": {},
   "outputs": [],
   "source": [
    "pipeline = modelConfig['pipeline']\n",
    "architecture = modelConfig['architecture']\n",
    "loops = modelConfig['loops']"
   ]
  },
  {
   "cell_type": "code",
   "execution_count": 10,
   "metadata": {},
   "outputs": [],
   "source": [
    "class Network():\n",
    "    def __init__(self, pipeline, architecture, loops, input_dim=3, hidden_dim=8, n_graph_iters=3,\n",
    "                 hidden_activation=nn.Tanh, layer_norm=True):\n",
    "        super(Network, self).__init__()\n",
    "        self.pipeline = pipeline\n",
    "        self.loops = loops\n",
    "        self.architecture = architecture\n",
    "        self.operations = {k: v['type'](input_dim, hidden_dim, hidden_activation, layer_norm) for (k, v) in architecture.items()}\n",
    "\n",
    "    def forward(self, inputs, iterations=1, pipeline = None):\n",
    "        values = {}\n",
    "        values[\"inputs\"] = inputs.x\n",
    "        if pipeline is None: pipeline = self.pipeline\n",
    "        for i in range(iterations):\n",
    "            for j in pipeline: \n",
    "                if type(j) is dict:\n",
    "                    values = forward(input, iterations = self.loops[list(j.keys())[0]], pipeline=list(j.values())[0])\n",
    "                else: \n",
    "                    values[self.architecture[j][\"outputs\"]] = self.operations[j](values[self.architecture[j][\"inputs\"]])        \n",
    "        return values"
   ]
  },
  {
   "cell_type": "code",
   "execution_count": 11,
   "metadata": {},
   "outputs": [
    {
     "ename": "TypeError",
     "evalue": "'str' object is not callable",
     "output_type": "error",
     "traceback": [
      "\u001b[0;31m---------------------------------------------------------------------------\u001b[0m",
      "\u001b[0;31mTypeError\u001b[0m                                 Traceback (most recent call last)",
      "\u001b[0;32m<ipython-input-11-3a018903e317>\u001b[0m in \u001b[0;36m<module>\u001b[0;34m\u001b[0m\n\u001b[0;32m----> 1\u001b[0;31m \u001b[0mNetwork\u001b[0m\u001b[0;34m(\u001b[0m\u001b[0mpipeline\u001b[0m\u001b[0;34m,\u001b[0m \u001b[0marchitecture\u001b[0m\u001b[0;34m,\u001b[0m \u001b[0mloops\u001b[0m\u001b[0;34m)\u001b[0m\u001b[0;34m\u001b[0m\u001b[0;34m\u001b[0m\u001b[0m\n\u001b[0m",
      "\u001b[0;32m<ipython-input-10-ea8da4c515bc>\u001b[0m in \u001b[0;36m__init__\u001b[0;34m(self, pipeline, architecture, loops, input_dim, hidden_dim, n_graph_iters, hidden_activation, layer_norm)\u001b[0m\n\u001b[1;32m      6\u001b[0m         \u001b[0mself\u001b[0m\u001b[0;34m.\u001b[0m\u001b[0mloops\u001b[0m \u001b[0;34m=\u001b[0m \u001b[0mloops\u001b[0m\u001b[0;34m\u001b[0m\u001b[0;34m\u001b[0m\u001b[0m\n\u001b[1;32m      7\u001b[0m         \u001b[0mself\u001b[0m\u001b[0;34m.\u001b[0m\u001b[0marchitecture\u001b[0m \u001b[0;34m=\u001b[0m \u001b[0marchitecture\u001b[0m\u001b[0;34m\u001b[0m\u001b[0;34m\u001b[0m\u001b[0m\n\u001b[0;32m----> 8\u001b[0;31m         \u001b[0mself\u001b[0m\u001b[0;34m.\u001b[0m\u001b[0moperations\u001b[0m \u001b[0;34m=\u001b[0m \u001b[0;34m{\u001b[0m\u001b[0mk\u001b[0m\u001b[0;34m:\u001b[0m \u001b[0mv\u001b[0m\u001b[0;34m[\u001b[0m\u001b[0;34m'type'\u001b[0m\u001b[0;34m]\u001b[0m\u001b[0;34m(\u001b[0m\u001b[0minput_dim\u001b[0m\u001b[0;34m,\u001b[0m \u001b[0mhidden_dim\u001b[0m\u001b[0;34m,\u001b[0m \u001b[0mhidden_activation\u001b[0m\u001b[0;34m,\u001b[0m \u001b[0mlayer_norm\u001b[0m\u001b[0;34m)\u001b[0m \u001b[0;32mfor\u001b[0m \u001b[0;34m(\u001b[0m\u001b[0mk\u001b[0m\u001b[0;34m,\u001b[0m \u001b[0mv\u001b[0m\u001b[0;34m)\u001b[0m \u001b[0;32min\u001b[0m \u001b[0marchitecture\u001b[0m\u001b[0;34m.\u001b[0m\u001b[0mitems\u001b[0m\u001b[0;34m(\u001b[0m\u001b[0;34m)\u001b[0m\u001b[0;34m}\u001b[0m\u001b[0;34m\u001b[0m\u001b[0;34m\u001b[0m\u001b[0m\n\u001b[0m\u001b[1;32m      9\u001b[0m \u001b[0;34m\u001b[0m\u001b[0m\n\u001b[1;32m     10\u001b[0m     \u001b[0;32mdef\u001b[0m \u001b[0mforward\u001b[0m\u001b[0;34m(\u001b[0m\u001b[0mself\u001b[0m\u001b[0;34m,\u001b[0m \u001b[0minputs\u001b[0m\u001b[0;34m,\u001b[0m \u001b[0miterations\u001b[0m\u001b[0;34m=\u001b[0m\u001b[0;36m1\u001b[0m\u001b[0;34m,\u001b[0m \u001b[0mpipeline\u001b[0m \u001b[0;34m=\u001b[0m \u001b[0;32mNone\u001b[0m\u001b[0;34m)\u001b[0m\u001b[0;34m:\u001b[0m\u001b[0;34m\u001b[0m\u001b[0;34m\u001b[0m\u001b[0m\n",
      "\u001b[0;32m<ipython-input-10-ea8da4c515bc>\u001b[0m in \u001b[0;36m<dictcomp>\u001b[0;34m(.0)\u001b[0m\n\u001b[1;32m      6\u001b[0m         \u001b[0mself\u001b[0m\u001b[0;34m.\u001b[0m\u001b[0mloops\u001b[0m \u001b[0;34m=\u001b[0m \u001b[0mloops\u001b[0m\u001b[0;34m\u001b[0m\u001b[0;34m\u001b[0m\u001b[0m\n\u001b[1;32m      7\u001b[0m         \u001b[0mself\u001b[0m\u001b[0;34m.\u001b[0m\u001b[0marchitecture\u001b[0m \u001b[0;34m=\u001b[0m \u001b[0marchitecture\u001b[0m\u001b[0;34m\u001b[0m\u001b[0;34m\u001b[0m\u001b[0m\n\u001b[0;32m----> 8\u001b[0;31m         \u001b[0mself\u001b[0m\u001b[0;34m.\u001b[0m\u001b[0moperations\u001b[0m \u001b[0;34m=\u001b[0m \u001b[0;34m{\u001b[0m\u001b[0mk\u001b[0m\u001b[0;34m:\u001b[0m \u001b[0mv\u001b[0m\u001b[0;34m[\u001b[0m\u001b[0;34m'type'\u001b[0m\u001b[0;34m]\u001b[0m\u001b[0;34m(\u001b[0m\u001b[0minput_dim\u001b[0m\u001b[0;34m,\u001b[0m \u001b[0mhidden_dim\u001b[0m\u001b[0;34m,\u001b[0m \u001b[0mhidden_activation\u001b[0m\u001b[0;34m,\u001b[0m \u001b[0mlayer_norm\u001b[0m\u001b[0;34m)\u001b[0m \u001b[0;32mfor\u001b[0m \u001b[0;34m(\u001b[0m\u001b[0mk\u001b[0m\u001b[0;34m,\u001b[0m \u001b[0mv\u001b[0m\u001b[0;34m)\u001b[0m \u001b[0;32min\u001b[0m \u001b[0marchitecture\u001b[0m\u001b[0;34m.\u001b[0m\u001b[0mitems\u001b[0m\u001b[0;34m(\u001b[0m\u001b[0;34m)\u001b[0m\u001b[0;34m}\u001b[0m\u001b[0;34m\u001b[0m\u001b[0;34m\u001b[0m\u001b[0m\n\u001b[0m\u001b[1;32m      9\u001b[0m \u001b[0;34m\u001b[0m\u001b[0m\n\u001b[1;32m     10\u001b[0m     \u001b[0;32mdef\u001b[0m \u001b[0mforward\u001b[0m\u001b[0;34m(\u001b[0m\u001b[0mself\u001b[0m\u001b[0;34m,\u001b[0m \u001b[0minputs\u001b[0m\u001b[0;34m,\u001b[0m \u001b[0miterations\u001b[0m\u001b[0;34m=\u001b[0m\u001b[0;36m1\u001b[0m\u001b[0;34m,\u001b[0m \u001b[0mpipeline\u001b[0m \u001b[0;34m=\u001b[0m \u001b[0;32mNone\u001b[0m\u001b[0;34m)\u001b[0m\u001b[0;34m:\u001b[0m\u001b[0;34m\u001b[0m\u001b[0;34m\u001b[0m\u001b[0m\n",
      "\u001b[0;31mTypeError\u001b[0m: 'str' object is not callable"
     ]
    }
   ],
   "source": [
    "Network(pipeline, architecture, loops)"
   ]
  },
  {
   "cell_type": "code",
   "execution_count": 126,
   "metadata": {},
   "outputs": [
    {
     "name": "stdout",
     "output_type": "stream",
     "text": [
      "Not\n",
      "Not\n",
      "dict_keys(['loop1'])\n",
      "Not\n"
     ]
    }
   ],
   "source": [
    "for j in pipeline:\n",
    "    if type(j) is dict: \n",
    "        print(j.keys())\n",
    "    else: \n",
    "        print(\"Not\")"
   ]
  },
  {
   "cell_type": "code",
   "execution_count": 65,
   "metadata": {},
   "outputs": [],
   "source": [
    "from models.agnn import *"
   ]
  },
  {
   "cell_type": "code",
   "execution_count": 123,
   "metadata": {},
   "outputs": [],
   "source": [
    "# Externals\n",
    "import torch\n",
    "import torch.nn as nn\n",
    "from torch_scatter import scatter_add\n",
    "\n",
    "# Locals\n",
    "from models.utils import make_mlp\n",
    "\n",
    "class EdgeNetwork(nn.Module):\n",
    "    \"\"\"\n",
    "    A module which computes weights for edges of the graph.\n",
    "    For each edge, it selects the associated nodes' features\n",
    "    and applies some fully-connected network layers with a final\n",
    "    sigmoid activation.\n",
    "    \"\"\"\n",
    "    def __init__(self, input_dim, hidden_dim=8, hidden_activation=nn.Tanh,\n",
    "                 layer_norm=True):\n",
    "        super(EdgeNetwork, self).__init__()\n",
    "        self.network = make_mlp((input_dim+hidden_dim)*2,\n",
    "                                [hidden_dim, hidden_dim, hidden_dim, 1],\n",
    "                                hidden_activation=hidden_activation,\n",
    "                                output_activation=None,\n",
    "                                layer_norm=layer_norm)\n",
    "\n",
    "    def forward(self, x, edge_index):\n",
    "        # Select the features of the associated nodes\n",
    "        start, end = edge_index\n",
    "        x1, x2 = x[start], x[end]\n",
    "        edge_inputs = torch.cat([x[start], x[end]], dim=1)\n",
    "        return self.network(edge_inputs).squeeze(-1)\n",
    "\n",
    "class NodeNetwork(nn.Module):\n",
    "    \"\"\"\n",
    "    A module which computes new node features on the graph.\n",
    "    For each node, it aggregates the neighbor node features\n",
    "    (separately on the input and output side), and combines\n",
    "    them with the node's previous features in a fully-connected\n",
    "    network to compute the new features.\n",
    "    \"\"\"\n",
    "    def __init__(self, input_dim, hidden_dim, hidden_activation=nn.Tanh,\n",
    "                 layer_norm=True):\n",
    "        super(NodeNetwork, self).__init__()\n",
    "        self.network = make_mlp((input_dim+hidden_dim)*3, [hidden_dim]*4,\n",
    "                                hidden_activation=hidden_activation,\n",
    "                                output_activation=hidden_activation,\n",
    "                                layer_norm=layer_norm)\n",
    "\n",
    "    def forward(self, x, e, edge_index):\n",
    "        start, end = edge_index\n",
    "        # Aggregate edge-weighted incoming/outgoing features\n",
    "        mi = scatter_add(e[:, None] * x[start], end, dim=0, dim_size=x.shape[0])\n",
    "        mo = scatter_add(e[:, None] * x[end], start, dim=0, dim_size=x.shape[0])\n",
    "        node_inputs = torch.cat([mi, mo, x], dim=1)\n",
    "        return self.network(node_inputs)\n",
    "    \n",
    "class InputNetwork(nn.Module):\n",
    "    \"\"\"\n",
    "    A module which computes new node features on the graph.\n",
    "    For each node, it aggregates the neighbor node features\n",
    "    (separately on the input and output side), and combines\n",
    "    them with the node's previous features in a fully-connected\n",
    "    network to compute the new features.\n",
    "    \"\"\"\n",
    "    def __init__(self, input_dim, hidden_dim, hidden_activation=nn.Tanh,\n",
    "                 layer_norm=True):\n",
    "        super(InputNetwork, self).__init__()\n",
    "        self.network = make_mlp(input_dim, [hidden_dim],\n",
    "                                      output_activation=hidden_activation,\n",
    "                                      layer_norm=layer_norm)\n",
    "\n",
    "    def forward(self, x, e, edge_index):\n",
    "        return self.network(x)\n",
    "    \n",
    "class Shortcut(nn.Module):\n",
    "    \"\"\"\n",
    "    A module which computes new node features on the graph.\n",
    "    For each node, it aggregates the neighbor node features\n",
    "    (separately on the input and output side), and combines\n",
    "    them with the node's previous features in a fully-connected\n",
    "    network to compute the new features.\n",
    "    \"\"\"\n",
    "    def __init__(self, input_dim, hidden_dim, hidden_activation=nn.Tanh,\n",
    "                 layer_norm=True):\n",
    "        super(Shortcut, self).__init__()\n",
    "\n",
    "    def forward(self, x, inputs):\n",
    "        return torch.cat([x, inputs], dim=1)"
   ]
  },
  {
   "cell_type": "markdown",
   "metadata": {
    "heading_collapsed": true
   },
   "source": [
    "## GNN Training"
   ]
  },
  {
   "cell_type": "markdown",
   "metadata": {
    "heading_collapsed": true
   },
   "source": [
    "## GNN Testbed"
   ]
  },
  {
   "cell_type": "markdown",
   "metadata": {
    "heading_collapsed": true
   },
   "source": [
    "## Export for Production"
   ]
  },
  {
   "cell_type": "code",
   "execution_count": null,
   "metadata": {
    "hidden": true
   },
   "outputs": [],
   "source": []
  }
 ],
 "metadata": {
  "kernelspec": {
   "display_name": "pytorch-v1.2.0-gpu [conda env:root] *",
   "language": "python",
   "name": "conda-root-pytorch-v1.2.0-gpu"
  },
  "language_info": {
   "codemirror_mode": {
    "name": "ipython",
    "version": 3
   },
   "file_extension": ".py",
   "mimetype": "text/x-python",
   "name": "python",
   "nbconvert_exporter": "python",
   "pygments_lexer": "ipython3",
   "version": "3.6.9"
  }
 },
 "nbformat": 4,
 "nbformat_minor": 4
}
